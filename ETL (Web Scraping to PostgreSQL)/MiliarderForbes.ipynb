{
  "nbformat": 4,
  "nbformat_minor": 0,
  "metadata": {
    "colab": {
      "name": "Week 6 - Homework 3.ipynb",
      "provenance": []
    },
    "kernelspec": {
      "name": "python3",
      "display_name": "Python 3"
    },
    "language_info": {
      "name": "python"
    }
  },
  "cells": [
    {
      "cell_type": "markdown",
      "metadata": {
        "id": "6hQmdHH85b1q"
      },
      "source": [
        "# Extract"
      ]
    },
    {
      "cell_type": "code",
      "metadata": {
        "id": "bN85ZNXj58vI"
      },
      "source": [
        "pip install psycopg2-binary==2.8.6"
      ],
      "execution_count": null,
      "outputs": []
    },
    {
      "cell_type": "code",
      "metadata": {
        "id": "aGFY7yET4s8X"
      },
      "source": [
        "import pandas as pd\n",
        "import logging\n",
        "\n",
        "logging.basicConfig(level=logging.INFO)\n",
        "url =  \"https://id.wikipedia.org/wiki/Daftar_miliarder_Forbes\""
      ],
      "execution_count": null,
      "outputs": []
    },
    {
      "cell_type": "code",
      "metadata": {
        "id": "ogzBKh1M5x3v"
      },
      "source": [
        "def scrape(url):\n",
        "    logging.info(f\"Scraping website with url: '{url}' ...\")\n",
        "    return pd.read_html(url, header=None)"
      ],
      "execution_count": null,
      "outputs": []
    },
    {
      "cell_type": "code",
      "metadata": {
        "colab": {
          "base_uri": "https://localhost:8080/"
        },
        "id": "ITngLT-h5zcv",
        "outputId": "73c5aa99-14e9-4c22-97c0-6111185114fb"
      },
      "source": [
        "dfs = scrape(url)[1]"
      ],
      "execution_count": null,
      "outputs": [
        {
          "output_type": "stream",
          "name": "stderr",
          "text": [
            "INFO:root:Scraping website with url: 'https://id.wikipedia.org/wiki/Daftar_miliarder_Forbes' ...\n"
          ]
        }
      ]
    },
    {
      "cell_type": "code",
      "metadata": {
        "colab": {
          "base_uri": "https://localhost:8080/",
          "height": 359
        },
        "id": "DoKFRj9N6BLB",
        "outputId": "89a3723a-cd55-4e0a-ac6d-3eb449d2c03d"
      },
      "source": [
        "dfs"
      ],
      "execution_count": null,
      "outputs": [
        {
          "output_type": "execute_result",
          "data": {
            "text/html": [
              "<div>\n",
              "<style scoped>\n",
              "    .dataframe tbody tr th:only-of-type {\n",
              "        vertical-align: middle;\n",
              "    }\n",
              "\n",
              "    .dataframe tbody tr th {\n",
              "        vertical-align: top;\n",
              "    }\n",
              "\n",
              "    .dataframe thead th {\n",
              "        text-align: right;\n",
              "    }\n",
              "</style>\n",
              "<table border=\"1\" class=\"dataframe\">\n",
              "  <thead>\n",
              "    <tr style=\"text-align: right;\">\n",
              "      <th></th>\n",
              "      <th>No.</th>\n",
              "      <th>Nama</th>\n",
              "      <th>Kekayaan bersih (USD)</th>\n",
              "      <th>Usia</th>\n",
              "      <th>Kebangsaan</th>\n",
              "      <th>Sumber kekayaan</th>\n",
              "    </tr>\n",
              "  </thead>\n",
              "  <tbody>\n",
              "    <tr>\n",
              "      <th>0</th>\n",
              "      <td>NaN</td>\n",
              "      <td>Jeff Bezos</td>\n",
              "      <td>$112.0 miliar</td>\n",
              "      <td>54</td>\n",
              "      <td>Amerika Serikat</td>\n",
              "      <td>Amazon.com</td>\n",
              "    </tr>\n",
              "    <tr>\n",
              "      <th>1</th>\n",
              "      <td>NaN</td>\n",
              "      <td>Bill Gates</td>\n",
              "      <td>$90.0 miliar</td>\n",
              "      <td>62</td>\n",
              "      <td>Amerika Serikat</td>\n",
              "      <td>Microsoft</td>\n",
              "    </tr>\n",
              "    <tr>\n",
              "      <th>2</th>\n",
              "      <td>NaN</td>\n",
              "      <td>Warren Buffett</td>\n",
              "      <td>$84.0 miliar</td>\n",
              "      <td>87</td>\n",
              "      <td>Amerika Serikat</td>\n",
              "      <td>Berkshire Hathaway</td>\n",
              "    </tr>\n",
              "    <tr>\n",
              "      <th>3</th>\n",
              "      <td>NaN</td>\n",
              "      <td>Bernard Arnault</td>\n",
              "      <td>$72.0 miliar</td>\n",
              "      <td>69</td>\n",
              "      <td>Prancis</td>\n",
              "      <td>LVMH</td>\n",
              "    </tr>\n",
              "    <tr>\n",
              "      <th>4</th>\n",
              "      <td>NaN</td>\n",
              "      <td>Mark Zuckerberg</td>\n",
              "      <td>$71.0 miliar</td>\n",
              "      <td>33</td>\n",
              "      <td>Amerika Serikat</td>\n",
              "      <td>Facebook</td>\n",
              "    </tr>\n",
              "    <tr>\n",
              "      <th>5</th>\n",
              "      <td>NaN</td>\n",
              "      <td>Amancio Ortega</td>\n",
              "      <td>$70.0 miliar</td>\n",
              "      <td>81</td>\n",
              "      <td>Spanyol</td>\n",
              "      <td>Inditex, Zara</td>\n",
              "    </tr>\n",
              "    <tr>\n",
              "      <th>6</th>\n",
              "      <td>NaN</td>\n",
              "      <td>Carlos Slim</td>\n",
              "      <td>$67.1 miliar</td>\n",
              "      <td>78</td>\n",
              "      <td>Meksiko</td>\n",
              "      <td>América Móvil, Grupo Carso</td>\n",
              "    </tr>\n",
              "    <tr>\n",
              "      <th>7</th>\n",
              "      <td>NaN</td>\n",
              "      <td>Charles Koch</td>\n",
              "      <td>$60.0 miliar</td>\n",
              "      <td>82</td>\n",
              "      <td>Amerika Serikat</td>\n",
              "      <td>Koch Industries</td>\n",
              "    </tr>\n",
              "    <tr>\n",
              "      <th>8</th>\n",
              "      <td>NaN</td>\n",
              "      <td>David Koch</td>\n",
              "      <td>$60.0 miliar</td>\n",
              "      <td>77</td>\n",
              "      <td>Amerika Serikat</td>\n",
              "      <td>Koch Industries</td>\n",
              "    </tr>\n",
              "    <tr>\n",
              "      <th>9</th>\n",
              "      <td>NaN</td>\n",
              "      <td>Larry Ellison</td>\n",
              "      <td>$58.5 miliar</td>\n",
              "      <td>73</td>\n",
              "      <td>Amerika Serikat</td>\n",
              "      <td>Oracle Corporation</td>\n",
              "    </tr>\n",
              "  </tbody>\n",
              "</table>\n",
              "</div>"
            ],
            "text/plain": [
              "   No.             Nama  ...       Kebangsaan             Sumber kekayaan\n",
              "0  NaN       Jeff Bezos  ...  Amerika Serikat                  Amazon.com\n",
              "1  NaN       Bill Gates  ...  Amerika Serikat                   Microsoft\n",
              "2  NaN   Warren Buffett  ...  Amerika Serikat          Berkshire Hathaway\n",
              "3  NaN  Bernard Arnault  ...          Prancis                        LVMH\n",
              "4  NaN  Mark Zuckerberg  ...  Amerika Serikat                    Facebook\n",
              "5  NaN   Amancio Ortega  ...          Spanyol               Inditex, Zara\n",
              "6  NaN      Carlos Slim  ...          Meksiko  América Móvil, Grupo Carso\n",
              "7  NaN     Charles Koch  ...  Amerika Serikat             Koch Industries\n",
              "8  NaN       David Koch  ...  Amerika Serikat             Koch Industries\n",
              "9  NaN    Larry Ellison  ...  Amerika Serikat          Oracle Corporation\n",
              "\n",
              "[10 rows x 6 columns]"
            ]
          },
          "metadata": {},
          "execution_count": 89
        }
      ]
    },
    {
      "cell_type": "markdown",
      "metadata": {
        "id": "Ge2BkOQD6iA7"
      },
      "source": [
        "# Transform"
      ]
    },
    {
      "cell_type": "code",
      "metadata": {
        "id": "3TtE5OmY6nAv"
      },
      "source": [
        "import re"
      ],
      "execution_count": null,
      "outputs": []
    },
    {
      "cell_type": "code",
      "metadata": {
        "id": "oVv4JW3G6kDt"
      },
      "source": [
        "def transform_money_format(string_money):\n",
        "    half_clean_string = string_money.lower().replace(\",\", \".\").replace(\" \", \"\").replace(\"$\", \"\")\n",
        "    return re.sub(r\"[?\\[M\\]miliar]\", \"\", half_clean_string)"
      ],
      "execution_count": null,
      "outputs": []
    },
    {
      "cell_type": "code",
      "metadata": {
        "id": "D8Bng7ewKDof"
      },
      "source": [
        "def transform(df, tahun):\n",
        "    logging.info(\"Transforming DataFrame ...\")\n",
        "\n",
        "    columns_mapping = {\n",
        "        \"No.\": \"nomor_urut\",\n",
        "        \"Nama\": \"nama\",\n",
        "        \"Kekayaan bersih (USD)\": \"kekayaan_bersih_usd\",\n",
        "        \"Usia\": \"usia\",\n",
        "        \"Kebangsaan\": \"kebangsaan\",\n",
        "        \"Sumber kekayaan\": \"sumber_kekayaan\"\n",
        "    }\n",
        "\n",
        "    renamed_df = df.rename(columns=columns_mapping)\n",
        "    renamed_df[\"tahun\"] = tahun\n",
        "    renamed_df[\"perusahaan\"] = renamed_df[\"sumber_kekayaan\"]\n",
        "    renamed_df[\"nomor_urut\"] = renamed_df.index+1\n",
        "    renamed_df[\"kekayaan_bersih_usd_juta\"] = renamed_df[\"kekayaan_bersih_usd\"].apply(\n",
        "        lambda value: float(transform_money_format(value)) * 1000\n",
        "    )\n",
        "\n",
        "    return renamed_df[[\"nama\", \"nomor_urut\", \"kekayaan_bersih_usd_juta\", \"perusahaan\", \"usia\", \"kebangsaan\", \"sumber_kekayaan\", \"tahun\"]]"
      ],
      "execution_count": null,
      "outputs": []
    },
    {
      "cell_type": "code",
      "metadata": {
        "colab": {
          "base_uri": "https://localhost:8080/"
        },
        "id": "_XQO9gN7LHk-",
        "outputId": "7aa9221d-d980-40eb-bef6-fe4ed4d24ebc"
      },
      "source": [
        "df_2018 = transform(dfs, 2018)"
      ],
      "execution_count": null,
      "outputs": [
        {
          "output_type": "stream",
          "name": "stderr",
          "text": [
            "INFO:root:Transforming DataFrame ...\n"
          ]
        }
      ]
    },
    {
      "cell_type": "code",
      "metadata": {
        "colab": {
          "base_uri": "https://localhost:8080/",
          "height": 359
        },
        "id": "FdgxjCJdLhT5",
        "outputId": "10ca3feb-c7da-4651-f52e-458e836c4a10"
      },
      "source": [
        "df_2018"
      ],
      "execution_count": null,
      "outputs": [
        {
          "output_type": "execute_result",
          "data": {
            "text/html": [
              "<div>\n",
              "<style scoped>\n",
              "    .dataframe tbody tr th:only-of-type {\n",
              "        vertical-align: middle;\n",
              "    }\n",
              "\n",
              "    .dataframe tbody tr th {\n",
              "        vertical-align: top;\n",
              "    }\n",
              "\n",
              "    .dataframe thead th {\n",
              "        text-align: right;\n",
              "    }\n",
              "</style>\n",
              "<table border=\"1\" class=\"dataframe\">\n",
              "  <thead>\n",
              "    <tr style=\"text-align: right;\">\n",
              "      <th></th>\n",
              "      <th>nama</th>\n",
              "      <th>nomor_urut</th>\n",
              "      <th>kekayaan_bersih_usd_juta</th>\n",
              "      <th>perusahaan</th>\n",
              "      <th>usia</th>\n",
              "      <th>kebangsaan</th>\n",
              "      <th>sumber_kekayaan</th>\n",
              "      <th>tahun</th>\n",
              "    </tr>\n",
              "  </thead>\n",
              "  <tbody>\n",
              "    <tr>\n",
              "      <th>0</th>\n",
              "      <td>Jeff Bezos</td>\n",
              "      <td>1</td>\n",
              "      <td>112000.0</td>\n",
              "      <td>Amazon.com</td>\n",
              "      <td>54</td>\n",
              "      <td>Amerika Serikat</td>\n",
              "      <td>Amazon.com</td>\n",
              "      <td>2018</td>\n",
              "    </tr>\n",
              "    <tr>\n",
              "      <th>1</th>\n",
              "      <td>Bill Gates</td>\n",
              "      <td>2</td>\n",
              "      <td>90000.0</td>\n",
              "      <td>Microsoft</td>\n",
              "      <td>62</td>\n",
              "      <td>Amerika Serikat</td>\n",
              "      <td>Microsoft</td>\n",
              "      <td>2018</td>\n",
              "    </tr>\n",
              "    <tr>\n",
              "      <th>2</th>\n",
              "      <td>Warren Buffett</td>\n",
              "      <td>3</td>\n",
              "      <td>84000.0</td>\n",
              "      <td>Berkshire Hathaway</td>\n",
              "      <td>87</td>\n",
              "      <td>Amerika Serikat</td>\n",
              "      <td>Berkshire Hathaway</td>\n",
              "      <td>2018</td>\n",
              "    </tr>\n",
              "    <tr>\n",
              "      <th>3</th>\n",
              "      <td>Bernard Arnault</td>\n",
              "      <td>4</td>\n",
              "      <td>72000.0</td>\n",
              "      <td>LVMH</td>\n",
              "      <td>69</td>\n",
              "      <td>Prancis</td>\n",
              "      <td>LVMH</td>\n",
              "      <td>2018</td>\n",
              "    </tr>\n",
              "    <tr>\n",
              "      <th>4</th>\n",
              "      <td>Mark Zuckerberg</td>\n",
              "      <td>5</td>\n",
              "      <td>71000.0</td>\n",
              "      <td>Facebook</td>\n",
              "      <td>33</td>\n",
              "      <td>Amerika Serikat</td>\n",
              "      <td>Facebook</td>\n",
              "      <td>2018</td>\n",
              "    </tr>\n",
              "    <tr>\n",
              "      <th>5</th>\n",
              "      <td>Amancio Ortega</td>\n",
              "      <td>6</td>\n",
              "      <td>70000.0</td>\n",
              "      <td>Inditex, Zara</td>\n",
              "      <td>81</td>\n",
              "      <td>Spanyol</td>\n",
              "      <td>Inditex, Zara</td>\n",
              "      <td>2018</td>\n",
              "    </tr>\n",
              "    <tr>\n",
              "      <th>6</th>\n",
              "      <td>Carlos Slim</td>\n",
              "      <td>7</td>\n",
              "      <td>67100.0</td>\n",
              "      <td>América Móvil, Grupo Carso</td>\n",
              "      <td>78</td>\n",
              "      <td>Meksiko</td>\n",
              "      <td>América Móvil, Grupo Carso</td>\n",
              "      <td>2018</td>\n",
              "    </tr>\n",
              "    <tr>\n",
              "      <th>7</th>\n",
              "      <td>Charles Koch</td>\n",
              "      <td>8</td>\n",
              "      <td>60000.0</td>\n",
              "      <td>Koch Industries</td>\n",
              "      <td>82</td>\n",
              "      <td>Amerika Serikat</td>\n",
              "      <td>Koch Industries</td>\n",
              "      <td>2018</td>\n",
              "    </tr>\n",
              "    <tr>\n",
              "      <th>8</th>\n",
              "      <td>David Koch</td>\n",
              "      <td>9</td>\n",
              "      <td>60000.0</td>\n",
              "      <td>Koch Industries</td>\n",
              "      <td>77</td>\n",
              "      <td>Amerika Serikat</td>\n",
              "      <td>Koch Industries</td>\n",
              "      <td>2018</td>\n",
              "    </tr>\n",
              "    <tr>\n",
              "      <th>9</th>\n",
              "      <td>Larry Ellison</td>\n",
              "      <td>10</td>\n",
              "      <td>58500.0</td>\n",
              "      <td>Oracle Corporation</td>\n",
              "      <td>73</td>\n",
              "      <td>Amerika Serikat</td>\n",
              "      <td>Oracle Corporation</td>\n",
              "      <td>2018</td>\n",
              "    </tr>\n",
              "  </tbody>\n",
              "</table>\n",
              "</div>"
            ],
            "text/plain": [
              "              nama  nomor_urut  ...             sumber_kekayaan tahun\n",
              "0       Jeff Bezos           1  ...                  Amazon.com  2018\n",
              "1       Bill Gates           2  ...                   Microsoft  2018\n",
              "2   Warren Buffett           3  ...          Berkshire Hathaway  2018\n",
              "3  Bernard Arnault           4  ...                        LVMH  2018\n",
              "4  Mark Zuckerberg           5  ...                    Facebook  2018\n",
              "5   Amancio Ortega           6  ...               Inditex, Zara  2018\n",
              "6      Carlos Slim           7  ...  América Móvil, Grupo Carso  2018\n",
              "7     Charles Koch           8  ...             Koch Industries  2018\n",
              "8       David Koch           9  ...             Koch Industries  2018\n",
              "9    Larry Ellison          10  ...          Oracle Corporation  2018\n",
              "\n",
              "[10 rows x 8 columns]"
            ]
          },
          "metadata": {},
          "execution_count": 83
        }
      ]
    },
    {
      "cell_type": "markdown",
      "metadata": {
        "id": "PGXedeAgQkX2"
      },
      "source": [
        "# Load"
      ]
    },
    {
      "cell_type": "code",
      "metadata": {
        "id": "77c845PJQmd8"
      },
      "source": [
        "from sqlalchemy import create_engine"
      ],
      "execution_count": null,
      "outputs": []
    },
    {
      "cell_type": "code",
      "metadata": {
        "id": "eLqmWDYOQsAj"
      },
      "source": [
        "DB_NAME = \"web_scraping_db\"\n",
        "DB_USER = \"username\"\n",
        "DB_PASSWORD = \"secret\"\n",
        "DB_HOST = \"34.71.186.247\"\n",
        "DB_PORT = \"5432\"\n",
        "CONNECTION_STRING = f\"postgresql://{DB_USER}:{DB_PASSWORD}@{DB_HOST}:{DB_PORT}/{DB_NAME}\"\n",
        "TABLE_NAME = \"almer_orang_terkaya_forbes\""
      ],
      "execution_count": null,
      "outputs": []
    },
    {
      "cell_type": "code",
      "metadata": {
        "id": "Zyx373p_ROsq"
      },
      "source": [
        "def write_to_postgres(df, db_name, table_name, connection_string):\n",
        "    engine = create_engine(connection_string)\n",
        "\n",
        "    logging.info(f\"Writing dataframe to database: '{db_name}', table: '{table_name}' ...\")\n",
        "    df.to_sql(name = table_name, con=engine, if_exists=\"replace\", index=False)"
      ],
      "execution_count": null,
      "outputs": []
    },
    {
      "cell_type": "code",
      "metadata": {
        "colab": {
          "base_uri": "https://localhost:8080/"
        },
        "id": "Ln8DZNFDRQcY",
        "outputId": "f9bda109-550d-49ef-cbdd-cbb5ec8c0801"
      },
      "source": [
        "write_to_postgres(df=df_2018, db_name=DB_NAME, table_name=TABLE_NAME, connection_string=CONNECTION_STRING)"
      ],
      "execution_count": null,
      "outputs": [
        {
          "output_type": "stream",
          "name": "stderr",
          "text": [
            "INFO:root:Writing dataframe to database: 'web_scraping_db', table: 'almer_orang_terkaya_forbes' ...\n"
          ]
        }
      ]
    }
  ]
}