{
  "nbformat": 4,
  "nbformat_minor": 0,
  "metadata": {
    "colab": {
      "name": "Stockbit Data Engineer Test.ipynb",
      "provenance": []
    },
    "kernelspec": {
      "name": "python3",
      "display_name": "Python 3"
    },
    "language_info": {
      "name": "python"
    }
  },
  "cells": [
    {
      "cell_type": "markdown",
      "source": [
        "Data Ingestion"
      ],
      "metadata": {
        "id": "quq6EgtlaHl6"
      }
    },
    {
      "cell_type": "code",
      "source": [
        "#install lib\n",
        "!pip install mysql-connector-python"
      ],
      "metadata": {
        "colab": {
          "base_uri": "https://localhost:8080/"
        },
        "id": "aOYApOjAUtbr",
        "outputId": "a734fd55-211a-483b-ae00-93443684d4cd"
      },
      "execution_count": 6,
      "outputs": [
        {
          "output_type": "stream",
          "name": "stdout",
          "text": [
            "Collecting mysql-connector-python\n",
            "  Downloading mysql_connector_python-8.0.28-cp37-cp37m-manylinux1_x86_64.whl (37.6 MB)\n",
            "\u001b[K     |████████████████████████████████| 37.6 MB 479 kB/s \n",
            "\u001b[?25hRequirement already satisfied: protobuf>=3.0.0 in /usr/local/lib/python3.7/dist-packages (from mysql-connector-python) (3.17.3)\n",
            "Requirement already satisfied: six>=1.9 in /usr/local/lib/python3.7/dist-packages (from protobuf>=3.0.0->mysql-connector-python) (1.15.0)\n",
            "Installing collected packages: mysql-connector-python\n",
            "Successfully installed mysql-connector-python-8.0.28\n"
          ]
        }
      ]
    },
    {
      "cell_type": "code",
      "execution_count": 10,
      "metadata": {
        "id": "wAehkE1GQ4gB"
      },
      "outputs": [],
      "source": [
        "#import module\n",
        "import pandas as pd\n",
        "from sqlalchemy import create_engine\n",
        "import mysql.connector\n",
        "import json"
      ]
    },
    {
      "cell_type": "code",
      "source": [
        "#csv to df\n",
        "olist_customers_dataset = pd.read_csv(\"CSV/olist_customers_dataset.csv\")\n",
        "olist_order_items_dataset = pd.read_csv(\"CSV/olist_order_items_dataset.csv\")\n",
        "olist_order_payments_dataset = pd.read_csv(\"CSV/olist_order_payments_dataset.csv\")\n",
        "olist_order_reviews_dataset = pd.read_csv(\"CSV/olist_order_reviews_dataset.csv\")\n",
        "olist_orders_dataset = pd.read_csv(\"CSV/olist_orders_dataset.csv\")\n",
        "olist_products_dataset = pd.read_csv(\"CSV/olist_products_dataset.csv\")\n",
        "olist_sellers_dataset = pd.read_csv(\"CSV/olist_sellers_dataset.csv\")\n",
        "product_category_name_translation = pd.read_csv(\"CSV/product_category_name_translation.csv\")"
      ],
      "metadata": {
        "id": "6ytSpCsaToQ8"
      },
      "execution_count": 63,
      "outputs": []
    },
    {
      "cell_type": "code",
      "source": [
        "#For security purposes, DB connection string is hidden\n",
        "with open ('credentials.json', \"r\") as cred:\n",
        "        credential = json.load(cred)\n",
        "        credential = credential['mysql']"
      ],
      "metadata": {
        "id": "9TJSGn5SYHAQ"
      },
      "execution_count": 21,
      "outputs": []
    },
    {
      "cell_type": "code",
      "source": [
        "#Credentials\n",
        "DB_NAME = credential[\"database\"]\n",
        "DB_USER = credential[\"username\"]\n",
        "DB_PASSWORD = credential[\"password\"]\n",
        "DB_HOST = credential[\"host\"]\n",
        "DB_PORT = credential[\"port\"]"
      ],
      "metadata": {
        "id": "MXYeHsAxVvE8"
      },
      "execution_count": 22,
      "outputs": []
    },
    {
      "cell_type": "code",
      "source": [
        "#Create Connection\n",
        "mysql_engine = create_engine(f\"mysql+mysqlconnector://{DB_USER}:{DB_PASSWORD}@{DB_HOST}:{DB_PORT}\")\n",
        "mysql_engine.connect().execute(f'CREATE DATABASE IF NOT EXISTS {DB_NAME} CHARACTER SET utf8mb4 COLLATE utf8mb4_unicode_ci;') # olist_order_reviews_dataset return error \"1366 (HY000): Incorrect string value\", need unicode utf8mb4\n",
        "mysql_engine = create_engine(f\"mysql+mysqlconnector://{DB_USER}:{DB_PASSWORD}@{DB_HOST}:{DB_PORT}/{DB_NAME}\")\n",
        "\n",
        "#Insert Into DB\n",
        "olist_customers_dataset.to_sql(name='customers', con=mysql_engine, if_exists=\"replace\", index=False)\n",
        "olist_order_items_dataset.to_sql(name='order_items', con=mysql_engine, if_exists=\"replace\", index=False)\n",
        "olist_order_payments_dataset.to_sql(name='order_payments', con=mysql_engine, if_exists=\"replace\", index=False)\n",
        "olist_order_reviews_dataset.to_sql(name='order_reviews', con=mysql_engine, if_exists=\"replace\", index=False)\n",
        "olist_orders_dataset.to_sql(name='orders', con=mysql_engine, if_exists=\"replace\", index=False)\n",
        "olist_products_dataset.to_sql(name='products', con=mysql_engine, if_exists=\"replace\", index=False)\n",
        "olist_sellers_dataset.to_sql(name='sellers', con=mysql_engine, if_exists=\"replace\", index=False)\n",
        "product_category_name_translation.to_sql(name='product_category_name_translation', con=mysql_engine, if_exists=\"replace\", index=False)\n",
        "\n",
        "mysql_engine.dispose()"
      ],
      "metadata": {
        "id": "g0XeNsyDUT_A"
      },
      "execution_count": 60,
      "outputs": []
    }
  ]
}