{
  "nbformat": 4,
  "nbformat_minor": 0,
  "metadata": {
    "colab": {
      "name": "Week_12_Homework.ipynb",
      "provenance": [],
      "collapsed_sections": []
    },
    "kernelspec": {
      "name": "python3",
      "display_name": "Python 3"
    },
    "language_info": {
      "name": "python"
    }
  },
  "cells": [
    {
      "cell_type": "code",
      "metadata": {
        "colab": {
          "base_uri": "https://localhost:8080/"
        },
        "id": "Z2nUZU-qFC-h",
        "outputId": "d1008ef2-a4df-43a8-a6ee-d6ed45155147"
      },
      "source": [
        "# install java\n",
        "!apt-get install openjdk-8-jdk-headless -qq > /dev/null\n",
        "\n",
        "# install spark (change the version number if needed)\n",
        "!wget -q https://archive.apache.org/dist/spark/spark-3.0.0/spark-3.0.0-bin-hadoop3.2.tgz\n",
        "\n",
        "# unzip the spark file to the current folder\n",
        "!tar xf spark-3.0.0-bin-hadoop3.2.tgz\n",
        "\n",
        "# set your spark folder to your system path environment. \n",
        "import os\n",
        "os.environ[\"JAVA_HOME\"] = \"/usr/lib/jvm/java-8-openjdk-amd64\"\n",
        "os.environ[\"SPARK_HOME\"] = \"/content/spark-3.0.0-bin-hadoop3.2\"\n",
        "\n",
        "# install findspark using pip\n",
        "!pip install -q findspark\n",
        "!pip install pyspark"
      ],
      "execution_count": null,
      "outputs": [
        {
          "output_type": "stream",
          "name": "stdout",
          "text": [
            "Collecting pyspark\n",
            "  Downloading pyspark-3.2.0.tar.gz (281.3 MB)\n",
            "\u001b[K     |████████████████████████████████| 281.3 MB 39 kB/s \n",
            "\u001b[?25hCollecting py4j==0.10.9.2\n",
            "  Downloading py4j-0.10.9.2-py2.py3-none-any.whl (198 kB)\n",
            "\u001b[K     |████████████████████████████████| 198 kB 52.3 MB/s \n",
            "\u001b[?25hBuilding wheels for collected packages: pyspark\n",
            "  Building wheel for pyspark (setup.py) ... \u001b[?25l\u001b[?25hdone\n",
            "  Created wheel for pyspark: filename=pyspark-3.2.0-py2.py3-none-any.whl size=281805912 sha256=de656b63e8371a14717e0dfcaacf842ce29b97f00765543a796a84552ca53b81\n",
            "  Stored in directory: /root/.cache/pip/wheels/0b/de/d2/9be5d59d7331c6c2a7c1b6d1a4f463ce107332b1ecd4e80718\n",
            "Successfully built pyspark\n",
            "Installing collected packages: py4j, pyspark\n",
            "Successfully installed py4j-0.10.9.2 pyspark-3.2.0\n"
          ]
        }
      ]
    },
    {
      "cell_type": "markdown",
      "metadata": {
        "id": "La5H78shM2Qa"
      },
      "source": [
        "Retail Data Analytics"
      ]
    },
    {
      "cell_type": "code",
      "metadata": {
        "id": "o-aOaL_gM4om"
      },
      "source": [
        "from pyspark.sql import SparkSession\n",
        "from pyspark.sql.functions import col\n",
        "import findspark\n",
        "findspark.init()"
      ],
      "execution_count": null,
      "outputs": []
    },
    {
      "cell_type": "code",
      "metadata": {
        "id": "gN-v0RJVM4PW"
      },
      "source": [
        "spark = SparkSession.builder.master(\"local[*]\").getOrCreate()"
      ],
      "execution_count": null,
      "outputs": []
    },
    {
      "cell_type": "code",
      "metadata": {
        "id": "oTd4gqFHDfJQ"
      },
      "source": [
        "df = spark.read.option(\"delimiter\", \";\").option(\"inferSchema\", \"true\").csv(\"retail-data.csv\")"
      ],
      "execution_count": null,
      "outputs": []
    },
    {
      "cell_type": "code",
      "metadata": {
        "id": "AzKap3uiDi-l"
      },
      "source": [
        "customerAmount = df.select(col(\"_c3\").alias(\"CustomerID\"),col(\"_c2\").alias(\"Amount\"))"
      ],
      "execution_count": null,
      "outputs": []
    },
    {
      "cell_type": "code",
      "metadata": {
        "id": "u4pQs9f1Djde"
      },
      "source": [
        "results = customerAmount.groupBy(\"CustomerID\").avg(\"Amount\").withColumnRenamed(\"avg(Amount)\", \"AvgAmount\").orderBy(\"CustomerID\")"
      ],
      "execution_count": null,
      "outputs": []
    },
    {
      "cell_type": "code",
      "metadata": {
        "id": "bv-zTsIrDm78"
      },
      "source": [
        "results.show()"
      ],
      "execution_count": null,
      "outputs": []
    },
    {
      "cell_type": "markdown",
      "metadata": {
        "id": "g9k4501eKf0Y"
      },
      "source": [
        "Social Media Content Wrangling"
      ]
    },
    {
      "cell_type": "code",
      "metadata": {
        "id": "ZvdVbSOsBGcf"
      },
      "source": [
        "from pyspark.sql import SparkSession\n",
        "from pyspark.sql.functions import lit, col, explode, arrays_zip\n",
        "from pyspark.sql.types import ArrayType, StructType\n",
        "import findspark\n",
        "findspark.init()"
      ],
      "execution_count": null,
      "outputs": []
    },
    {
      "cell_type": "code",
      "metadata": {
        "id": "ddHMrLlmeJ4i"
      },
      "source": [
        "spark = SparkSession.builder.master(\"local[*]\").getOrCreate()"
      ],
      "execution_count": null,
      "outputs": []
    },
    {
      "cell_type": "code",
      "metadata": {
        "id": "sI345tAmTQs_"
      },
      "source": [
        "akunTwitter = spark.read.option(\"header\", \"true\").option(\"inferSchema\", \"true\").csv(\"AkunTwitter_POS.csv\")"
      ],
      "execution_count": null,
      "outputs": []
    },
    {
      "cell_type": "code",
      "metadata": {
        "id": "vBor8qmiWrZJ"
      },
      "source": [
        "hashtagTwitter = spark.read.option(\"header\", \"true\").option(\"inferSchema\", \"true\").csv(\"HashtagTwitter_POS.csv\")"
      ],
      "execution_count": null,
      "outputs": []
    },
    {
      "cell_type": "code",
      "metadata": {
        "id": "nR0bQtcwWrPN"
      },
      "source": [
        "instagram = spark.read.option(\"header\", \"true\").option(\"inferSchema\", \"true\").json(\"Instagram_POS.json\")"
      ],
      "execution_count": null,
      "outputs": []
    },
    {
      "cell_type": "code",
      "metadata": {
        "id": "kFNqrL_UaHVw"
      },
      "source": [
        "akun = akunTwitter.select(\"username\", col(\"tweet\").alias(\"content\")).withColumn(\"source\", lit(\"Twitter\"))"
      ],
      "execution_count": null,
      "outputs": []
    },
    {
      "cell_type": "code",
      "metadata": {
        "id": "CdQh0yt4hZ6L"
      },
      "source": [
        "hashtag = hashtagTwitter.select(\"username\", col(\"tweet\").alias(\"content\")).withColumn(\"source\", lit(\"Twitter\"))"
      ],
      "execution_count": null,
      "outputs": []
    },
    {
      "cell_type": "code",
      "metadata": {
        "id": "VDGot7dUhZ3P"
      },
      "source": [
        "ig = instagram.select(\"caption\",\"comments.author\",\"comments.comment\")"
      ],
      "execution_count": null,
      "outputs": []
    },
    {
      "cell_type": "code",
      "metadata": {
        "id": "DZT26Z19GfMN"
      },
      "source": [
        "igAuthorComment = ig.withColumn(\"comments\", arrays_zip(\"author\", \"comment\")) \\\n",
        ".withColumn(\"comments\", explode(\"comments\")) \\\n",
        ".select(col(\"comments.author\").alias(\"username\"), col(\"comments.comment\").alias(\"content\")) \\\n",
        ".withColumn(\"source\", lit(\"Instagram\"))"
      ],
      "execution_count": null,
      "outputs": []
    },
    {
      "cell_type": "code",
      "metadata": {
        "id": "GkVk0WS29Ny2"
      },
      "source": [
        "joinAll = akun.unionAll(hashtag).unionAll(igAuthorComment)"
      ],
      "execution_count": null,
      "outputs": []
    },
    {
      "cell_type": "code",
      "metadata": {
        "id": "zKn6w7QxNDwp"
      },
      "source": [
        "joinAll.coalesce(1).write.option(\"header\", \"true\").csv(\"joinAll.csv\")"
      ],
      "execution_count": null,
      "outputs": []
    },
    {
      "cell_type": "code",
      "metadata": {
        "id": "1ahyfxUDRuld"
      },
      "source": [
        "spark.stop()"
      ],
      "execution_count": null,
      "outputs": []
    },
    {
      "cell_type": "markdown",
      "metadata": {
        "id": "B9R81-piFAwM"
      },
      "source": [
        "SparkSQL Data Analytics"
      ]
    },
    {
      "cell_type": "code",
      "metadata": {
        "id": "yVWVrjy3E9os"
      },
      "source": [
        "import findspark\n",
        "from pyspark.sql import SparkSession\n",
        "from pyspark.sql.types import StructType, StructField, StringType, IntegerType, FloatType\n",
        "\n",
        "findspark.init()"
      ],
      "execution_count": null,
      "outputs": []
    },
    {
      "cell_type": "code",
      "metadata": {
        "id": "FTwvLQRZGr0f"
      },
      "source": [
        "spark = SparkSession.builder.master(\"local[*]\").getOrCreate()"
      ],
      "execution_count": null,
      "outputs": []
    },
    {
      "cell_type": "code",
      "metadata": {
        "id": "3L_0FwQsFKR8"
      },
      "source": [
        "schema = StructType([ \\\n",
        "                     StructField(\"InvoiceNo\", IntegerType(), True), \\\n",
        "                     StructField(\"StockCode\", IntegerType(), True), \\\n",
        "                     StructField(\"Description\", StringType(), True), \\\n",
        "                     StructField(\"Quantity\", IntegerType(), True), \\\n",
        "                     StructField(\"InvoiceData\", StringType(), True), \\\n",
        "                     StructField(\"Amount\", FloatType(), True), \\\n",
        "                     StructField(\"CustomerID\", FloatType(), True), \\\n",
        "                     StructField(\"Country\", StringType(), True)])\n"
      ],
      "execution_count": null,
      "outputs": []
    },
    {
      "cell_type": "code",
      "metadata": {
        "id": "fPdZ7KIfFNE3"
      },
      "source": [
        "df = spark.read.schema(schema).option(\"delimiter\", \";\").csv(\"retail-data-full.csv\")"
      ],
      "execution_count": null,
      "outputs": []
    },
    {
      "cell_type": "code",
      "metadata": {
        "id": "iy3bumJvFO5z"
      },
      "source": [
        "df.createOrReplaceTempView(\"retail_data_full\")\n",
        "results = spark.sql(\"SELECT CustomerID, min(Amount) FROM retail_data_full GROUP BY CustomerID ORDER BY CustomerID\").collect()"
      ],
      "execution_count": null,
      "outputs": []
    },
    {
      "cell_type": "code",
      "metadata": {
        "id": "FlZD9iZ9Kqpt"
      },
      "source": [
        "for result in results:\n",
        "  print(result)"
      ],
      "execution_count": null,
      "outputs": []
    },
    {
      "cell_type": "markdown",
      "metadata": {
        "id": "UcvOfjQOFXPW"
      },
      "source": [
        "OR"
      ]
    },
    {
      "cell_type": "code",
      "metadata": {
        "id": "TSqo7tfTFYpr"
      },
      "source": [
        "minAmount = df.select(\"CustomerID\", \"Amount\")\n",
        "results = minAmount.groupBy(\"CustomerID\").min(\"Amount\").sort(\"CustomerID\").collect()"
      ],
      "execution_count": null,
      "outputs": []
    },
    {
      "cell_type": "code",
      "metadata": {
        "id": "2VHpSdn7HgD9"
      },
      "source": [
        "for result in results:\n",
        "  print(result)"
      ],
      "execution_count": null,
      "outputs": []
    },
    {
      "cell_type": "code",
      "metadata": {
        "id": "NiFZL61DLxSL"
      },
      "source": [
        "spark.stop()"
      ],
      "execution_count": null,
      "outputs": []
    }
  ]
}